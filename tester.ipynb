{
 "cells": [
  {
   "cell_type": "code",
   "execution_count": 1,
   "metadata": {},
   "outputs": [],
   "source": [
    "import numpy as np\n",
    "import interpolate_color as interpol"
   ]
  },
  {
   "cell_type": "code",
   "execution_count": 2,
   "metadata": {},
   "outputs": [
    {
     "ename": "TypeError",
     "evalue": "'int' object is not subscriptable",
     "output_type": "error",
     "traceback": [
      "\u001b[1;31m---------------------------------------------------------------------------\u001b[0m",
      "\u001b[1;31mTypeError\u001b[0m                                 Traceback (most recent call last)",
      "Cell \u001b[1;32mIn[2], line 6\u001b[0m\n\u001b[0;32m      4\u001b[0m c1 \u001b[39m=\u001b[39m np\u001b[39m.\u001b[39marray([\u001b[39m6\u001b[39m, \u001b[39m7\u001b[39m, \u001b[39m4\u001b[39m])\n\u001b[0;32m      5\u001b[0m c2 \u001b[39m=\u001b[39m np\u001b[39m.\u001b[39marray([\u001b[39m0\u001b[39m, \u001b[39m50\u001b[39m, \u001b[39m13\u001b[39m])\n\u001b[1;32m----> 6\u001b[0m color \u001b[39m=\u001b[39m interpol\u001b[39m.\u001b[39;49minterpolate_color(x1, x2, x, c1, c2)\n\u001b[0;32m      7\u001b[0m \u001b[39mprint\u001b[39m(color)\n",
      "File \u001b[1;32mc:\\Users\\Christos\\chris\\auth\\Computer graphics\\Triangle-Filling\\interpolate_color.py:13\u001b[0m, in \u001b[0;36minterpolate_color\u001b[1;34m(x1, x2, x, c1, c2)\u001b[0m\n\u001b[0;32m      4\u001b[0m \u001b[39mdef\u001b[39;00m \u001b[39minterpolate_color\u001b[39m(x1, x2, x, c1: np\u001b[39m.\u001b[39marray, c2: np\u001b[39m.\u001b[39marray):\n\u001b[0;32m      5\u001b[0m     \u001b[39m\"\"\"\u001b[39;00m\n\u001b[0;32m      6\u001b[0m \u001b[39m    ___3D point RGB color interpolation function___\u001b[39;00m\n\u001b[0;32m      7\u001b[0m \u001b[39m    x1: first 3D point\u001b[39;00m\n\u001b[1;32m   (...)\u001b[0m\n\u001b[0;32m     11\u001b[0m \u001b[39m    c2: x2's RGB color\u001b[39;00m\n\u001b[0;32m     12\u001b[0m \u001b[39m    \"\"\"\u001b[39;00m\n\u001b[1;32m---> 13\u001b[0m     diff1 \u001b[39m=\u001b[39m \u001b[39mabs\u001b[39m(x2[\u001b[39m0\u001b[39;49m] \u001b[39m-\u001b[39m x1[\u001b[39m0\u001b[39m])\n\u001b[0;32m     14\u001b[0m     diff2 \u001b[39m=\u001b[39m \u001b[39mabs\u001b[39m(x2[\u001b[39m1\u001b[39m] \u001b[39m-\u001b[39m x1[\u001b[39m1\u001b[39m])\n\u001b[0;32m     15\u001b[0m     \u001b[39mprint\u001b[39m(\u001b[39m\"\u001b[39m\u001b[39mdiff1\u001b[39m\u001b[39m\"\u001b[39m)\n",
      "\u001b[1;31mTypeError\u001b[0m: 'int' object is not subscriptable"
     ]
    }
   ],
   "source": [
    "x1 = 1\n",
    "x2 = 7\n",
    "x = 4\n",
    "c1 = np.array([6, 7, 4])\n",
    "c2 = np.array([0, 50, 13])\n",
    "color = interpol.interpolate_color(x1, x2, x, c1, c2)\n",
    "print(color)"
   ]
  },
  {
   "cell_type": "code",
   "execution_count": 3,
   "metadata": {},
   "outputs": [
    {
     "name": "stdout",
     "output_type": "stream",
     "text": [
      "[43 56]\n"
     ]
    }
   ],
   "source": [
    "y = np.array([[3, 54], [43, 56]])\n",
    "print(y[1])"
   ]
  },
  {
   "cell_type": "code",
   "execution_count": 7,
   "metadata": {},
   "outputs": [
    {
     "name": "stdout",
     "output_type": "stream",
     "text": [
      "2\n"
     ]
    }
   ],
   "source": [
    "x = 2\n",
    "y = 3\n",
    "print(x%y)"
   ]
  },
  {
   "cell_type": "code",
   "execution_count": 8,
   "metadata": {},
   "outputs": [
    {
     "name": "stdout",
     "output_type": "stream",
     "text": [
      "[1, 2, 3]\n",
      "[2, 3, 4]\n",
      "[3, 4, 5]\n",
      "[2. 3. 4.]\n"
     ]
    }
   ],
   "source": [
    "import numpy as np\n",
    "import statistics\n",
    "vcolors = np.array([[1, 2, 3], [2, 3, 4], [3, 4, 5]])\n",
    "color = np.zeros(3)\n",
    "for i in range(3):\n",
    "    i_color_palette = [vcolors[0][i], vcolors[1][i], vcolors[2][i]]\n",
    "    print(i_color_palette)\n",
    "    color[i] = statistics.mean(i_color_palette)\n",
    "print(color)"
   ]
  },
  {
   "cell_type": "code",
   "execution_count": 9,
   "metadata": {},
   "outputs": [
    {
     "name": "stdout",
     "output_type": "stream",
     "text": [
      "1\n",
      "2\n",
      "3\n",
      "4\n",
      "5\n"
     ]
    }
   ],
   "source": [
    "xmin = 1\n",
    "xmax = 5\n",
    "for x in range(xmin, xmax+1):\n",
    "    print(x)"
   ]
  },
  {
   "cell_type": "code",
   "execution_count": 13,
   "metadata": {},
   "outputs": [
    {
     "name": "stdout",
     "output_type": "stream",
     "text": [
      "2\n"
     ]
    }
   ],
   "source": [
    "a = [[2, 4], [4, 6]]\n",
    "print(len(a))"
   ]
  },
  {
   "cell_type": "code",
   "execution_count": 14,
   "metadata": {},
   "outputs": [
    {
     "name": "stdout",
     "output_type": "stream",
     "text": [
      "[[2, 5], [3, 1]]\n"
     ]
    }
   ],
   "source": [
    "activ_peaks = [[3, 1],[2, 5]]\n",
    "activ_peaks.sort(key=lambda ap: ap[0])\n",
    "print(activ_peaks)"
   ]
  },
  {
   "cell_type": "code",
   "execution_count": 18,
   "metadata": {},
   "outputs": [
    {
     "name": "stdout",
     "output_type": "stream",
     "text": [
      "3\n",
      "4\n",
      "5\n",
      "6\n",
      "7\n",
      "8\n",
      "9\n",
      "10\n",
      "11\n",
      "12\n",
      "13\n"
     ]
    }
   ],
   "source": [
    "for i in range(int(3.5), int(14.6)):\n",
    "    print(i)"
   ]
  },
  {
   "cell_type": "code",
   "execution_count": 23,
   "metadata": {},
   "outputs": [
    {
     "name": "stdout",
     "output_type": "stream",
     "text": [
      "<class 'list'>\n",
      "<class 'numpy.ndarray'>\n",
      "[[1 2 3]\n",
      " [1 2 3]\n",
      " [1 2 3]]\n"
     ]
    }
   ],
   "source": [
    "a = [1, 2, 3]\n",
    "print(type(a))\n",
    "a = np.array(a)\n",
    "print(type(a))\n",
    "b = np.array([a, a, a])\n",
    "print(b)"
   ]
  },
  {
   "cell_type": "code",
   "execution_count": 24,
   "metadata": {},
   "outputs": [
    {
     "name": "stdout",
     "output_type": "stream",
     "text": [
      "[]\n",
      "[[8, 4]]\n",
      "[8, 4]\n",
      "4\n"
     ]
    }
   ],
   "source": [
    "a = []\n",
    "print(a)\n",
    "b = [8, 4]\n",
    "a.append(b)\n",
    "print(a)\n",
    "print(a[0])\n",
    "print(a[0][1])"
   ]
  },
  {
   "cell_type": "code",
   "execution_count": 28,
   "metadata": {},
   "outputs": [
    {
     "name": "stdout",
     "output_type": "stream",
     "text": [
      "[[3 6]\n",
      " [8 5]\n",
      " [5 5]]\n"
     ]
    }
   ],
   "source": [
    "a = [3, 6]\n",
    "b = [8, 5]\n",
    "c = [5, 5]\n",
    "triangle1 = np.array([a, b, c])\n",
    "print(triangle1)"
   ]
  },
  {
   "cell_type": "code",
   "execution_count": 3,
   "metadata": {},
   "outputs": [
    {
     "name": "stdout",
     "output_type": "stream",
     "text": [
      "1\n",
      "2\n",
      "2\n",
      "3\n",
      "3\n",
      "4\n",
      "4\n",
      "5\n",
      "5\n",
      "6\n",
      "6\n",
      "7\n",
      "7\n",
      "8\n",
      "8\n",
      "9\n",
      "9\n",
      "10\n",
      "10\n",
      "11\n"
     ]
    }
   ],
   "source": [
    "xmin = 1\n",
    "xmax = 10\n",
    "slope = 1\n",
    "for i in range(xmin, xmax + 1):\n",
    "    print(i)\n",
    "    xmin = xmin + slope\n",
    "    print(xmin)"
   ]
  },
  {
   "cell_type": "code",
   "execution_count": 21,
   "metadata": {},
   "outputs": [
    {
     "name": "stdout",
     "output_type": "stream",
     "text": [
      "xmin= 300.5\n",
      "xmax= 319.5\n",
      "xmin= 301.0\n",
      "xmax= 319.0\n",
      "xmin= 301.5\n",
      "xmax= 318.5\n",
      "xmin= 302.0\n",
      "xmax= 318.0\n",
      "xmin= 302.5\n",
      "xmax= 317.5\n",
      "xmin= 303.0\n",
      "xmax= 317.0\n",
      "xmin= 303.5\n",
      "xmax= 316.5\n",
      "xmin= 304.0\n",
      "xmax= 316.0\n",
      "xmin= 304.5\n",
      "xmax= 315.5\n",
      "xmin= 305.0\n",
      "xmax= 315.0\n",
      "xmin= 305.5\n",
      "xmax= 314.5\n",
      "xmin= 306.0\n",
      "xmax= 314.0\n",
      "xmin= 306.5\n",
      "xmax= 313.5\n",
      "xmin= 307.0\n",
      "xmax= 313.0\n",
      "xmin= 307.5\n",
      "xmax= 312.5\n",
      "xmin= 308.0\n",
      "xmax= 312.0\n",
      "xmin= 308.5\n",
      "xmax= 311.5\n",
      "xmin= 309.0\n",
      "xmax= 311.0\n",
      "xmin= 309.5\n",
      "xmax= 310.5\n",
      "xmin= 310.0\n",
      "xmax= 310.0\n",
      "xmin= 310.5\n",
      "xmax= 309.5\n"
     ]
    },
    {
     "data": {
      "text/plain": [
       "<matplotlib.image.AxesImage at 0x1f3b6fd0c10>"
      ]
     },
     "execution_count": 21,
     "metadata": {},
     "output_type": "execute_result"
    },
    {
     "data": {
      "image/png": "[encoded data removed]",
      "text/plain": [
       "<Figure size 640x480 with 1 Axes>"
      ]
     },
     "metadata": {},
     "output_type": "display_data"
    }
   ],
   "source": [
    "import matplotlib.pyplot\n",
    "import numpy as np\n",
    "M = 512\n",
    "N = 512\n",
    "img = np.ones((M, N, 3))\n",
    "activ_peaks = []\n",
    "a = [300, 250]\n",
    "b = [320, 250]\n",
    "c = [310, 270]\n",
    "activ_peaks.append(a)\n",
    "activ_peaks.append(b)\n",
    "peaks_y_max = []\n",
    "peaks_y_max.append(c)\n",
    "ymin = 250\n",
    "ymax = 270\n",
    "xmin = 300\n",
    "xmax = 320\n",
    "color = [0.7, 0.7, 0.7]\n",
    "\n",
    "# sort to left and right lower peaks\n",
    "activ_peaks.sort(key=lambda ap: ap[0])\n",
    "# compute the 2 slopes of the acmes (inverse slopes to get rid of division by zero)\n",
    "left_slope = (peaks_y_max[0][0] - activ_peaks[0][0])/(ymax - ymin)\n",
    "right_slope = (activ_peaks[1][0] - peaks_y_max[0][0])/(ymin - ymax)\n",
    "# paint for each point\n",
    "for y in range(ymin, ymax + 1):\n",
    "    for x in range(int(xmin), int(xmax + 1)):\n",
    "        img[y][x] = color\n",
    "    xmin = (y + 1 - ymin) * left_slope + activ_peaks[0][0]\n",
    "    xmax = (y + 1 - ymin) * right_slope + activ_peaks[1][0]\n",
    "    print(f\"xmin= {xmin}\")\n",
    "    print(f\"xmax= {xmax}\")\n",
    "\n",
    "\n",
    "matplotlib.pyplot.imshow(img)\n"
   ]
  }
 ],
 "metadata": {
  "kernelspec": {
   "display_name": "Python 3",
   "language": "python",
   "name": "python3"
  },
  "language_info": {
   "codemirror_mode": {
    "name": "ipython",
    "version": 3
   },
   "file_extension": ".py",
   "mimetype": "text/x-python",
   "name": "python",
   "nbconvert_exporter": "python",
   "pygments_lexer": "ipython3",
   "version": "3.11.1"
  },
  "orig_nbformat": 4,
  "vscode": {
   "interpreter": {
    "hash": "5238573367df39f7286bb46f9ff5f08f63a01a80960060ce41e3c79b190280fa"
   }
  }
 },
 "nbformat": 4,
 "nbformat_minor": 2
}
