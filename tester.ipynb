{
 "cells": [
  {
   "cell_type": "code",
   "execution_count": 1,
   "metadata": {},
   "outputs": [],
   "source": [
    "import numpy as np\n",
    "import interpolate_color as interpol"
   ]
  },
  {
   "cell_type": "code",
   "execution_count": 5,
   "metadata": {},
   "outputs": [
    {
     "name": "stdout",
     "output_type": "stream",
     "text": [
      "diff1\n",
      "33\n",
      "diff2\n",
      "18\n",
      "d1\n",
      "67.00746227100382\n",
      "d2\n",
      "71.449282711585\n",
      "norm\n",
      "0.4839595375395408\n",
      "[ 2.90375723 29.18973989  8.64436416]\n"
     ]
    }
   ],
   "source": [
    "x1 = np.array([43, 56])\n",
    "x2 = np.array([10, 74])\n",
    "x = np.array([2, 3])\n",
    "c1 = np.array([6, 7, 4])\n",
    "c2 = np.array([0, 50, 13])\n",
    "color = interpol.interpolate_color(x1, x2, x, c1, c2)\n",
    "print(color)"
   ]
  }
 ],
 "metadata": {
  "kernelspec": {
   "display_name": "Python 3",
   "language": "python",
   "name": "python3"
  },
  "language_info": {
   "codemirror_mode": {
    "name": "ipython",
    "version": 3
   },
   "file_extension": ".py",
   "mimetype": "text/x-python",
   "name": "python",
   "nbconvert_exporter": "python",
   "pygments_lexer": "ipython3",
   "version": "3.11.1"
  },
  "orig_nbformat": 4,
  "vscode": {
   "interpreter": {
    "hash": "5238573367df39f7286bb46f9ff5f08f63a01a80960060ce41e3c79b190280fa"
   }
  }
 },
 "nbformat": 4,
 "nbformat_minor": 2
}
